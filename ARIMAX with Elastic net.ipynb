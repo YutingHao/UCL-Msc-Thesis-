{
 "cells": [
  {
   "cell_type": "markdown",
   "metadata": {},
   "source": [
    "## Load the data"
   ]
  },
  {
   "cell_type": "code",
   "execution_count": null,
   "metadata": {},
   "outputs": [],
   "source": [
    "from pandas import read_csv\n",
    "import pandas as pd\n",
    "from pandas import datetime\n",
    "from matplotlib import pyplot\n",
    "from matplotlib.pylab import rcParams\n",
    "import numpy as np\n",
    "import matplotlib.pylab as plt\n",
    "%matplotlib inline\n",
    "import matplotlib.mlab as mlab\n",
    "\n",
    "rcParams['figure.figsize'] = 15, 6\n",
    "\n",
    "dateparse = lambda dates: pd.datetime.strptime(dates, '%Y-%m-%d')\n",
    "elastic = read_csv('/Users/Helen/Documents/Data/codes/pre.csv', parse_dates=['week'],\n",
    "                   index_col=['week'],date_parser=dateparse) # Load the data of hayfever estimating results from Elastic net\n",
    "true = read_csv('/Users/Helen/Documents/Data/codes/true.csv', parse_dates=['week'],\n",
    "                   index_col=['week'],date_parser=dateparse) # Actual RCGP data\n",
    "\n",
    "print(elastic.head())\n",
    "print(true.head())\n",
    "elastic.plot()\n",
    "true.plot()\n",
    "pyplot.show()"
   ]
  },
  {
   "cell_type": "markdown",
   "metadata": {},
   "source": [
    "## Distribute the data size"
   ]
  },
  {
   "cell_type": "code",
   "execution_count": null,
   "metadata": {},
   "outputs": [],
   "source": [
    "\n",
    "# create 4 ARIMAX models by combining estimating results from Elastic net\n",
    "# 52-week\n",
    "\n",
    "train, test = elastic[52:104], true[52:104] # test period 1\n",
    "\n",
    "\n",
    "#train, test = elastic[104:156], true[104:156] # test period 2\n",
    "\n",
    "\n",
    "#train, test= elastic[156:208], true[156:208] # test period 3\n",
    "\n",
    "#train, test = elastic[208:261], true[208:261]# test period 4\n",
    "          \n",
    "\n",
    "L=test.index\n",
    "L"
   ]
  },
  {
   "cell_type": "code",
   "execution_count": null,
   "metadata": {
    "collapsed": true
   },
   "outputs": [],
   "source": [
    "test_=test.values"
   ]
  },
  {
   "cell_type": "markdown",
   "metadata": {},
   "source": [
    "## ARIMAX"
   ]
  },
  {
   "cell_type": "code",
   "execution_count": null,
   "metadata": {},
   "outputs": [],
   "source": [
    "import statsmodels.api as sm\n",
    "mod = sm.tsa.SARIMAX(endog = test_,exog = train, order=(5,1,1))#seasonal_order=(5, 1, 1, 1))\n",
    "fit_res = mod.fit(disp=0)\n",
    "print(fit_res.summary())\n",
    "predictions=fit_res.predict()"
   ]
  },
  {
   "cell_type": "markdown",
   "metadata": {},
   "source": [
    "### RMSE"
   ]
  },
  {
   "cell_type": "code",
   "execution_count": null,
   "metadata": {},
   "outputs": [],
   "source": [
    "df = pd.DataFrame(predictions,index=L,columns=['predictive_rate'])\n",
    "#df = pd.DataFrame(data=y_pred_enet, index=L,columns=[\"predicted rate\"])\n",
    "df_true = pd.DataFrame(test_, index=L,columns=[\"real hayfever rate\"])\n",
    "from sklearn.metrics import mean_squared_error, make_scorer\n",
    "MSE1 = mean_squared_error(test_, predictions, sample_weight=None, multioutput='uniform_average')\n",
    "rmse_c=np.sqrt(MSE1)\n",
    "print(\"%.4f\" % rmse_c)"
   ]
  },
  {
   "cell_type": "markdown",
   "metadata": {},
   "source": [
    "## Plot"
   ]
  },
  {
   "cell_type": "code",
   "execution_count": null,
   "metadata": {},
   "outputs": [],
   "source": [
    "plt.figure(figsize=(8,5))\n",
    "plt.ylim((-5, 150))\n",
    "line_up, = plt.plot(df, label='ARIMA + Elastic net',color='r',linestyle='-')\n",
    "line_down, = plt.plot(df_true, label='True Hayfever Rate')\n",
    "plt.legend(handles=[line_up, line_down])\n",
    "plt.ylabel(\"Hayfever rate per 100,000 people\")\n",
    "plt.xlabel(\"Time(week)\")\n",
    "#plt.title('MAE: %.4f'% MAE )\n",
    "plt.title('RMSE: %.4f'% rmse_c )\n",
    "pyplot.show()\n",
    "#pyplot.plot(test)\n",
    "#pyplot.plot(predictions, color='red')\n",
    "#pyplot.show()"
   ]
  },
  {
   "cell_type": "markdown",
   "metadata": {},
   "source": [
    "### MAE"
   ]
  },
  {
   "cell_type": "code",
   "execution_count": null,
   "metadata": {},
   "outputs": [],
   "source": [
    "from sklearn.metrics import mean_absolute_error\n",
    "mae_c = mean_absolute_error(test, predictions, sample_weight=None, multioutput='uniform_average')\n",
    "print(\"%.4f\" % mae_c)"
   ]
  },
  {
   "cell_type": "markdown",
   "metadata": {},
   "source": [
    "## r"
   ]
  },
  {
   "cell_type": "code",
   "execution_count": null,
   "metadata": {},
   "outputs": [],
   "source": [
    "from scipy.stats.stats import pearsonr   \n",
    "r_c=pearsonr(list(test['hayfever rate']), list(predictions))\n",
    "print(r_c)"
   ]
  },
  {
   "cell_type": "markdown",
   "metadata": {},
   "source": [
    "### MAPE"
   ]
  },
  {
   "cell_type": "code",
   "execution_count": null,
   "metadata": {},
   "outputs": [],
   "source": [
    "l1=list(test['hayfever rate'])\n",
    "l2=list(predictions)\n",
    "def mean_absolute_percentage_error(y_true, y_pred): \n",
    "    return np.mean((np.abs((np.array(y_true) - np.array(y_pred)) / np.array(y_true)) * 100))\n",
    "mape_c = mean_absolute_percentage_error(l1, l2)\n",
    "print(\"%.8f\" % mape_c)"
   ]
  },
  {
   "cell_type": "markdown",
   "metadata": {},
   "source": [
    "## Elastic net"
   ]
  },
  {
   "cell_type": "code",
   "execution_count": null,
   "metadata": {
    "collapsed": true
   },
   "outputs": [],
   "source": [
    "dateparse = lambda dates: pd.datetime.strptime(dates, '%Y-%m-%d')\n",
    "data=pd.read_csv('/Users/Helen/Documents/Data/query1/features.csv',parse_dates=['week'],index_col=0,date_parser=dateparse)"
   ]
  },
  {
   "cell_type": "code",
   "execution_count": null,
   "metadata": {},
   "outputs": [],
   "source": [
    "\n",
    "train2, valid2 = data[0:448], data[448:500] #2\n",
    "#train2, valid2 = data[0:500], data[500:552] #3\n",
    "#train2, valid2 = data[0:552], data[552:604]#4\n",
    "#train2, valid2 = data[0:604], data[604:657] #5\n",
    "len(valid2)"
   ]
  },
  {
   "cell_type": "code",
   "execution_count": null,
   "metadata": {},
   "outputs": [],
   "source": [
    "L2=valid2.index\n",
    "L2"
   ]
  },
  {
   "cell_type": "code",
   "execution_count": null,
   "metadata": {},
   "outputs": [],
   "source": [
    "features=['hayfever','hay fever','symptoms of hayfever','hayfever remedies','hayfever injection','hayfever cure', 'hayfever treatment',\n",
    "          'hayfever uk','hayfever relief','hay fever symptoms',\n",
    "          'hayfever symptoms','hayfever tablets',\n",
    "          'pollen','hayfever eyes','hayfever eye', 'pollen count','hayfever spray',\n",
    "          'hayfever count','hayfever medicine',\n",
    "          'hayfever boots','what is hayfever',\n",
    "          'hayfever medication','pregnant hayfever','hayfever pregnancy','hayfever in pregnancy',\n",
    "          'hayfever cures','cures for hayfever',\n",
    "          'hayfever eye drops','best hayfever tablets','hayfever children',\n",
    "          'cure hayfever', 'hayfever remedy',\n",
    "           'itchy eyes','sneezing','red eyes','blocked sinuses','runny nose','shortness of breath',\n",
    "            'hayfever pollen count',\n",
    "           'boots hayfever','honey hayfever','bbc pollen count','uk pollen count',\n",
    "            'remedies for hayfever']\n",
    "queries=features[0:]\n",
    "len(set(queries))"
   ]
  },
  {
   "cell_type": "code",
   "execution_count": null,
   "metadata": {},
   "outputs": [],
   "source": [
    "from scipy.stats.stats import pearsonr  \n",
    "selected=[]\n",
    "for x in features:\n",
    "    r=pearsonr(data[x], data['hayfever_rate'])\n",
    "    if(r[0])>=(0.65):\n",
    "        selected.append(x)\n",
    "len(set(selected))"
   ]
  },
  {
   "cell_type": "code",
   "execution_count": null,
   "metadata": {
    "collapsed": true
   },
   "outputs": [],
   "source": [
    "y_train = train2['hayfever_rate'].values\n",
    "x_train = train2[selected]\n",
    "x_valid = valid2[selected]\n",
    "y_valid = valid2['hayfever_rate'].values"
   ]
  },
  {
   "cell_type": "code",
   "execution_count": null,
   "metadata": {
    "collapsed": true
   },
   "outputs": [],
   "source": [
    "from sklearn.linear_model import ElasticNet\n",
    "enet = ElasticNet(alpha=124.78, l1_ratio=0.5,fit_intercept=True, max_iter=20000, tol=0.0000001) \n",
    "#enet = ElasticNet(alpha=87.74, l1_ratio=0.5,fit_intercept=True, max_iter=20000, tol=0.0000001) \n",
    "#enet = ElasticNet(alpha=154.01, l1_ratio=0.5,fit_intercept=True, max_iter=20000, tol=0.0000001) \n",
    "#enet = ElasticNet(alpha=220.28, l1_ratio=0.5,fit_intercept=True, max_iter=20000, tol=0.0000001) \n",
    "enet = enet.fit(x_train, y_train)\n",
    "y_pred_enet = enet.predict(x_valid)\n",
    "#enet.intercept_"
   ]
  },
  {
   "cell_type": "code",
   "execution_count": null,
   "metadata": {},
   "outputs": [],
   "source": [
    "df2 = pd.DataFrame(data=y_pred_enet, index=L2,columns=[\"predicted rate\"])\n",
    "rmse_e=np.sqrt(sum((y_pred_enet-y_valid)**2)/len(y_valid))\n",
    "rmse_e"
   ]
  },
  {
   "cell_type": "markdown",
   "metadata": {},
   "source": [
    "## Performance comparison "
   ]
  },
  {
   "cell_type": "code",
   "execution_count": null,
   "metadata": {},
   "outputs": [],
   "source": [
    "plt.figure(figsize=(9,5))\n",
    "plt.ylim((-5, 150))\n",
    "plt.ylabel(\"Hayfever incidence rate per 100,000 people\")\n",
    "plt.xlabel(\"Test time(week)\")\n",
    "plt.plot(df2, label='Elastic Net',color='g',linestyle='--')\n",
    "plt.plot(df, label='ARIMAX with Elastic net',color='r')\n",
    "plt.plot(df_true, label='True Hayfever Rate')\n",
    "\n",
    "#plt.title('Test period B')\n",
    "#plt.suptitle('RMSE of ARIMAX + Elastic net: %.4f'% rmse_c )\n",
    "plt.legend(['Elastic Net', 'ARIMAX + Elastic net', 'True Hayfever Rate','ARIMA'], loc='upper left')\n",
    "pyplot.show()"
   ]
  },
  {
   "cell_type": "code",
   "execution_count": null,
   "metadata": {
    "collapsed": true
   },
   "outputs": [],
   "source": []
  }
 ],
 "metadata": {
  "anaconda-cloud": {},
  "kernelspec": {
   "display_name": "Python 3",
   "language": "python",
   "name": "python3"
  },
  "language_info": {
   "codemirror_mode": {
    "name": "ipython",
    "version": 3
   },
   "file_extension": ".py",
   "mimetype": "text/x-python",
   "name": "python",
   "nbconvert_exporter": "python",
   "pygments_lexer": "ipython3",
   "version": "3.6.1"
  }
 },
 "nbformat": 4,
 "nbformat_minor": 2
}
